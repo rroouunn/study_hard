{
 "cells": [
  {
   "cell_type": "code",
   "execution_count": 12,
   "source": [
    "# n : n일동안 운동 // 1 <= n <= 8\n",
    "# k : 하루에 줄어드는 중량 // 1 <= k <= 50\n",
    "# 각각의 운동 키트는 n일 동안 한 번씩만 사용 가능\n",
    "# 모든 시점에서 중량은 500보다 작아지면 안 됨"
   ],
   "outputs": [],
   "metadata": {}
  },
  {
   "cell_type": "code",
   "execution_count": 14,
   "source": [
    "def dfs(count, now_weight):\n",
    "    global answer\n",
    "    if count == n:\n",
    "        answer += 1 #n일차까지 운동을 끝마쳤다면 1 증가\n",
    "        return \n",
    "    else:\n",
    "        for i in range(n):\n",
    "            if visit[i] == True or now_weight + kit[i] - k < 500:\n",
    "                continue\n",
    "            visit[i] = True\n",
    "            dfs(count+1, now_weight + kit[i] - k)\n",
    "            visit[i] = False"
   ],
   "outputs": [],
   "metadata": {}
  },
  {
   "cell_type": "code",
   "execution_count": 15,
   "source": [
    "n, k = map(int, input().split(' '))\n",
    "kit = list(map(int, input().split(' ')))\n",
    "\n",
    "visit = [False] * n # 방문 여부를 기록하는 변수\n",
    "answer = 0\n",
    "\n",
    "dfs(0, 500)\n",
    "\n",
    "print(answer)"
   ],
   "outputs": [
    {
     "output_type": "stream",
     "name": "stdout",
     "text": [
      "4\n"
     ]
    }
   ],
   "metadata": {}
  },
  {
   "cell_type": "code",
   "execution_count": null,
   "source": [],
   "outputs": [],
   "metadata": {}
  }
 ],
 "metadata": {
  "orig_nbformat": 4,
  "language_info": {
   "name": "python",
   "version": "3.9.6",
   "mimetype": "text/x-python",
   "codemirror_mode": {
    "name": "ipython",
    "version": 3
   },
   "pygments_lexer": "ipython3",
   "nbconvert_exporter": "python",
   "file_extension": ".py"
  },
  "kernelspec": {
   "name": "python3",
   "display_name": "Python 3.9.6 64-bit"
  },
  "interpreter": {
   "hash": "aee8b7b246df8f9039afb4144a1f6fd8d2ca17a180786b69acc140d282b71a49"
  }
 },
 "nbformat": 4,
 "nbformat_minor": 2
}