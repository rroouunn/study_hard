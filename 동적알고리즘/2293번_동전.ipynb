{
 "cells": [
  {
   "cell_type": "markdown",
   "id": "c013eba2",
   "metadata": {},
   "source": [
    "#### https://mong9data.tistory.com/68 참조"
   ]
  },
  {
   "cell_type": "code",
   "execution_count": null,
   "id": "48ef5a3a",
   "metadata": {},
   "outputs": [],
   "source": [
    "n, k = map(int, input().split())\n",
    "c = [int(input()) for i in range(n)] # 코인의 종류 n가지\n",
    "\n",
    "dp = [0 for i in range(k+1)] # 사이즈 k+1만큼의 리스트 선언\n",
    "dp[0] = 1 #인덱스 0은 동전을 1개만 쓸 때의 경우의 수를 고려하기 위해 선언\n",
    "\n",
    "for i in c:\n",
    "    for j in range(i, k+1):\n",
    "        if j-i >= 0:\n",
    "            dp[j] += dp[j-i]\n",
    "            \n",
    "print(dp[k])"
   ]
  }
 ],
 "metadata": {
  "kernelspec": {
   "display_name": "Python 3",
   "language": "python",
   "name": "python3"
  },
  "language_info": {
   "codemirror_mode": {
    "name": "ipython",
    "version": 3
   },
   "file_extension": ".py",
   "mimetype": "text/x-python",
   "name": "python",
   "nbconvert_exporter": "python",
   "pygments_lexer": "ipython3",
   "version": "3.8.5"
  }
 },
 "nbformat": 4,
 "nbformat_minor": 5
}
