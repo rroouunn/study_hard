{
 "cells": [
  {
   "cell_type": "code",
   "execution_count": 1,
   "id": "76f2380b",
   "metadata": {},
   "outputs": [],
   "source": [
    "def jump(x, idx, count):\n",
    "    \n",
    "    if x == 0: #  n = 1일 경우, 시작하자마자 1칸이 끝나므로 점프 수는 0\n",
    "        return count # 맨 앞까지 갔을 때(temp == 0) 점프 횟수 반환\n",
    "    temp = -1\n",
    "    \n",
    "    while idx != 0: # 앞 칸 숫자(ai[idx])가 지금 칸(x)까지 올 수 있다면 while문 빠져 나오기\n",
    "        idx -= 1\n",
    "        if ai[idx] + idx < x: \n",
    "            continue         \n",
    "        temp = idx\n",
    "    \n",
    "    if temp == -1:\n",
    "        return -1\n",
    "    \n",
    "    count += 1 #가장 앞 칸이 존재한다면 count = count + 1\n",
    "    return jump(temp, temp, count)"
   ]
  },
  {
   "cell_type": "code",
   "execution_count": 11,
   "id": "8f8e052d",
   "metadata": {},
   "outputs": [
    {
     "name": "stdout",
     "output_type": "stream",
     "text": [
      "5\n",
      "1 2 3 0 1\n",
      "3\n"
     ]
    }
   ],
   "source": [
    "#미로의 크기\n",
    "n = int(input())\n",
    "\n",
    "#각 칸에 적혀있는 정수\n",
    "ai = list(map(int, input().split()))\n",
    "\n",
    "count = 0\n",
    "print(jump(n-1, n-1, count))"
   ]
  },
  {
   "cell_type": "code",
   "execution_count": null,
   "id": "ef2a2623",
   "metadata": {},
   "outputs": [],
   "source": []
  }
 ],
 "metadata": {
  "kernelspec": {
   "display_name": "Python 3",
   "language": "python",
   "name": "python3"
  },
  "language_info": {
   "codemirror_mode": {
    "name": "ipython",
    "version": 3
   },
   "file_extension": ".py",
   "mimetype": "text/x-python",
   "name": "python",
   "nbconvert_exporter": "python",
   "pygments_lexer": "ipython3",
   "version": "3.8.5"
  }
 },
 "nbformat": 4,
 "nbformat_minor": 5
}
