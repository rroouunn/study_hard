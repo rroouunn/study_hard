{
    "cells": [
        {
            "cell_type": "code",
            "execution_count": 2,
            "source": [
                "# 탁자 위에 돌 N개\n",
                "# 상근이와 창영이는 턴을 번갈아가면서 돌을 가져가고, 1개 또는 3개 가져갈 수 있음\n",
                "# 마지막 돌을 가져가는 사람이 게임을 이기게 됨\n",
                "# 두 사람이 완벽하게 게임을 했을 때, 이기는 사람을 구하는 프로그램 작성\n",
                "# 게임은 상근이가 먼저 시작\n",
                "# 상근이가 게임을 이기면 SK를, 창영이가 게임을 이기면 CY을 출력"
            ],
            "outputs": [],
            "metadata": {}
        },
        {
            "cell_type": "code",
            "execution_count": 12,
            "source": [
                "n = int(input())\n",
                "\n",
                "share = n // 3\n",
                "rest = n % 3\n",
                "\n",
                "print(share, rest)"
            ],
            "outputs": [
                {
                    "output_type": "stream",
                    "name": "stdout",
                    "text": [
                        "1 2\n"
                    ]
                }
            ],
            "metadata": {}
        },
        {
            "cell_type": "code",
            "execution_count": 14,
            "source": [
                "if share % 2 == 1:\n",
                "    if rest == 0:\n",
                "        print(\"SK\")\n",
                "    elif rest == 1:\n",
                "        print(\"CY\")\n",
                "    else:\n",
                "        print(\"SK\")\n",
                "\n",
                "if share % 2 == 0:\n",
                "    if rest == 0:\n",
                "        print(\"CY\")\n",
                "    elif rest == 1:\n",
                "        print(\"SK\")\n",
                "    else:\n",
                "        print(\"CY\")"
            ],
            "outputs": [
                {
                    "output_type": "stream",
                    "name": "stdout",
                    "text": [
                        "SK\n"
                    ]
                }
            ],
            "metadata": {}
        },
        {
            "cell_type": "code",
            "execution_count": null,
            "source": [],
            "outputs": [],
            "metadata": {}
        },
        {
            "cell_type": "code",
            "execution_count": null,
            "source": [],
            "outputs": [],
            "metadata": {}
        }
    ],
    "metadata": {
        "orig_nbformat": 4,
        "language_info": {
            "name": "python",
            "version": "3.8.5",
            "mimetype": "text/x-python",
            "codemirror_mode": {
                "name": "ipython",
                "version": 3
            },
            "pygments_lexer": "ipython3",
            "nbconvert_exporter": "python",
            "file_extension": ".py"
        },
        "kernelspec": {
            "name": "python3",
            "display_name": "Python 3.8.5 64-bit ('base': conda)"
        },
        "interpreter": {
            "hash": "c641cc9b64e9a07be41a743f37822a7e4c57d5c2f209e3961b66b1bce980ebcf"
        }
    },
    "nbformat": 4,
    "nbformat_minor": 2
}