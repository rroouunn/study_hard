{
 "cells": [
  {
   "cell_type": "code",
   "execution_count": 1,
   "source": [
    "def LCS():\n",
    "    a, b = input(), input()\n",
    "    dp = [0] * 1000\n",
    "\n",
    "    for i in range(len(a)):\n",
    "        MAX = 0\n",
    "        for j in range(len(b)):\n",
    "            if MAX < dp[j]:\n",
    "                MAX = dp[j]\n",
    "            elif a[i] == b[j]:\n",
    "                dp[j] = MAX + 1\n",
    "        \n",
    "    print(max(dp))\n",
    "\n",
    "LCS()"
   ],
   "outputs": [],
   "metadata": {}
  }
 ],
 "metadata": {
  "orig_nbformat": 4,
  "language_info": {
   "name": "python",
   "version": "3.9.6",
   "mimetype": "text/x-python",
   "codemirror_mode": {
    "name": "ipython",
    "version": 3
   },
   "pygments_lexer": "ipython3",
   "nbconvert_exporter": "python",
   "file_extension": ".py"
  },
  "kernelspec": {
   "name": "python3",
   "display_name": "Python 3.9.6 64-bit"
  },
  "interpreter": {
   "hash": "aee8b7b246df8f9039afb4144a1f6fd8d2ca17a180786b69acc140d282b71a49"
  }
 },
 "nbformat": 4,
 "nbformat_minor": 2
}