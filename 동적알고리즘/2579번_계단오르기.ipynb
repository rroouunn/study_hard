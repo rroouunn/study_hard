{
 "cells": [
  {
   "cell_type": "code",
   "execution_count": 29,
   "source": [
    "n = int(input())\n",
    "score = []\n",
    "total = []\n",
    "\n",
    "for _ in range(n):\n",
    "    score.append(int(input()))"
   ],
   "outputs": [],
   "metadata": {}
  },
  {
   "cell_type": "code",
   "execution_count": 30,
   "source": [
    "if n <= 2:\n",
    "    for i in range(2):\n",
    "        score.append(0)\n",
    "\n",
    "total.append(score[0])\n",
    "total.append(max(score[0] + score[1], score[1]))\n",
    "total.append(max(score[0] + score[2], score[1] + score[2]))\n",
    "\n",
    "for i in range(3, n):\n",
    "    total.append(max(total[i-2] + score[i], total[i-3] + score[i-1] + score[i]))\n",
    "    \n",
    "print(total[n-1])"
   ],
   "outputs": [
    {
     "output_type": "stream",
     "name": "stdout",
     "text": [
      "50\n"
     ]
    }
   ],
   "metadata": {}
  },
  {
   "cell_type": "code",
   "execution_count": null,
   "source": [],
   "outputs": [],
   "metadata": {}
  }
 ],
 "metadata": {
  "kernelspec": {
   "name": "python3",
   "display_name": "Python 3.8.5 64-bit ('base': conda)"
  },
  "language_info": {
   "codemirror_mode": {
    "name": "ipython",
    "version": 3
   },
   "file_extension": ".py",
   "mimetype": "text/x-python",
   "name": "python",
   "nbconvert_exporter": "python",
   "pygments_lexer": "ipython3",
   "version": "3.8.5"
  },
  "interpreter": {
   "hash": "c641cc9b64e9a07be41a743f37822a7e4c57d5c2f209e3961b66b1bce980ebcf"
  }
 },
 "nbformat": 4,
 "nbformat_minor": 5
}