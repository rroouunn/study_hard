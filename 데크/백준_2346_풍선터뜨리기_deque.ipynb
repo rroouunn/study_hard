{
 "cells": [
  {
   "cell_type": "code",
   "execution_count": 1,
   "id": "12adda88",
   "metadata": {},
   "outputs": [],
   "source": [
    "from collections import deque"
   ]
  },
  {
   "cell_type": "markdown",
   "id": "15e8900f",
   "metadata": {},
   "source": [
    "### deque(데크)의 개념\n",
    "- deque : 양방향 큐\n",
    "- 앞, 뒤 양쪽 방향에서 엘리먼트를 추가하거나 제거할 수 있음"
   ]
  },
  {
   "cell_type": "markdown",
   "id": "79c07339",
   "metadata": {},
   "source": [
    "#### deque에 존재하는 method\n",
    "- deque.append(item) : item을 데크의 오른쪽 끝에 삽입한다.\n",
    "- deque.appendleft(item) : item의 데크의 왼쪽 끝에 삽입한다.\n",
    "- deque.pop() : 데크의 오른쪽 끝 엘리먼트를 가져오는 동시에 데크에서 삭제한다.\n",
    "- deque.popleft() : 데크의 왼쪽 끝 엘리먼트를 가져오는 동시에 데크에서 삭제한다.\n",
    "- deque.extend(array) : 주어진 array을 순환하면서 데크의 오른쪽에 추가한다.\n",
    "- deque.extendleft(array) : 주어진 array을 순환하면서 데크의 왼쪽에 추가한다.\n",
    "- deque.remove(item) : item을 데크에서 찾아 삭제한다.\n",
    "- deque.rotate(num) : 데크를 num만큼 회전한다.(양수면 오른쪽, 음수면 왼쪽)"
   ]
  },
  {
   "cell_type": "code",
   "execution_count": 2,
   "id": "24df7275",
   "metadata": {},
   "outputs": [
    {
     "name": "stdout",
     "output_type": "stream",
     "text": [
      "5\n",
      "3 2 1 -3 -1\n"
     ]
    }
   ],
   "source": [
    "N = int(input())\n",
    "s = list(map(int,input().split()))\n",
    "dq = deque()\n",
    "\n",
    "for idx, num in enumerate(s, 1):\n",
    "    dq.append([idx, num])\n",
    "    \n",
    "answer = []"
   ]
  },
  {
   "cell_type": "code",
   "execution_count": 3,
   "id": "e542e547",
   "metadata": {},
   "outputs": [
    {
     "data": {
      "text/plain": [
       "deque([[1, 3], [2, 2], [3, 1], [4, -3], [5, -1]])"
      ]
     },
     "execution_count": 3,
     "metadata": {},
     "output_type": "execute_result"
    }
   ],
   "source": [
    "dq"
   ]
  },
  {
   "cell_type": "code",
   "execution_count": 4,
   "id": "5fbf65a5",
   "metadata": {},
   "outputs": [
    {
     "name": "stdout",
     "output_type": "stream",
     "text": [
      "1 4 5 3 2\n"
     ]
    }
   ],
   "source": [
    "while dq:\n",
    "    idx, move = dq.popleft()\n",
    "    answer.append(idx)\n",
    "    if len(dq) == 1:\n",
    "        answer.append(dq.pop()[0])\n",
    "    else:\n",
    "        if move > 0 :\n",
    "            for _ in range(move-1):\n",
    "                dq.append(dq.popleft())\n",
    "        else:\n",
    "            for _ in range(abs(move)):\n",
    "                dq.appendleft(dq.pop())\n",
    " \n",
    "print(*answer)"
   ]
  },
  {
   "cell_type": "code",
   "execution_count": null,
   "id": "71b5e0c8",
   "metadata": {},
   "outputs": [],
   "source": []
  }
 ],
 "metadata": {
  "kernelspec": {
   "display_name": "Python 3",
   "language": "python",
   "name": "python3"
  },
  "language_info": {
   "codemirror_mode": {
    "name": "ipython",
    "version": 3
   },
   "file_extension": ".py",
   "mimetype": "text/x-python",
   "name": "python",
   "nbconvert_exporter": "python",
   "pygments_lexer": "ipython3",
   "version": "3.8.5"
  }
 },
 "nbformat": 4,
 "nbformat_minor": 5
}
